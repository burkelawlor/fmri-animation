{
 "cells": [
  {
   "cell_type": "code",
   "execution_count": 1,
   "metadata": {},
   "outputs": [],
   "source": [
    "import nibabel as nib\n",
    "import os"
   ]
  },
  {
   "cell_type": "markdown",
   "metadata": {},
   "source": [
    "# Nibabel example"
   ]
  },
  {
   "cell_type": "code",
   "execution_count": 4,
   "metadata": {},
   "outputs": [
    {
     "name": "stdout",
     "output_type": "stream",
     "text": [
      "/Users/burkelawlor/Repos/fmri-animation/env/lib/python3.12/site-packages/nibabel/tests/data/example4d.nii.gz\n"
     ]
    }
   ],
   "source": [
    "from nibabel.testing import data_path\n",
    "example_file = os.path.join(data_path, 'example4d.nii.gz')\n",
    "\n",
    "print(example_file)"
   ]
  },
  {
   "cell_type": "code",
   "execution_count": 5,
   "metadata": {},
   "outputs": [],
   "source": [
    "img = nib.load(example_file)"
   ]
  },
  {
   "cell_type": "code",
   "execution_count": 6,
   "metadata": {},
   "outputs": [
    {
     "data": {
      "text/plain": [
       "<nibabel.nifti1.Nifti1Image at 0x11f78da60>"
      ]
     },
     "execution_count": 6,
     "metadata": {},
     "output_type": "execute_result"
    }
   ],
   "source": [
    "img"
   ]
  },
  {
   "cell_type": "code",
   "execution_count": 7,
   "metadata": {},
   "outputs": [
    {
     "data": {
      "text/plain": [
       "<nibabel.arrayproxy.ArrayProxy at 0x11f459d90>"
      ]
     },
     "execution_count": 7,
     "metadata": {},
     "output_type": "execute_result"
    }
   ],
   "source": [
    "img.dataobj"
   ]
  },
  {
   "cell_type": "code",
   "execution_count": 8,
   "metadata": {},
   "outputs": [
    {
     "data": {
      "text/plain": [
       "{'_header': <nibabel.nifti1.Nifti1Header at 0x11f78e720>,\n",
       " 'extra': {},\n",
       " 'file_map': {'image': <nibabel.fileholders.FileHolder at 0x118f1f4a0>},\n",
       " '_dataobj': <nibabel.arrayproxy.ArrayProxy at 0x11f459d90>,\n",
       " '_data_cache': None,\n",
       " '_fdata_cache': None,\n",
       " '_affine': array([[-2.00000000e+00,  6.71471565e-19,  9.08102451e-18,\n",
       "          1.17855103e+02],\n",
       "        [-6.71471565e-19,  1.97371149e+00, -3.55528235e-01,\n",
       "         -3.57229424e+01],\n",
       "        [ 8.25548089e-18,  3.23207617e-01,  2.17108178e+00,\n",
       "         -7.24879837e+00],\n",
       "        [ 0.00000000e+00,  0.00000000e+00,  0.00000000e+00,\n",
       "          1.00000000e+00]]),\n",
       " '_load_cache': {'header': <nibabel.nifti1.Nifti1Header at 0x1193d21b0>,\n",
       "  'affine': array([[-2.00000000e+00,  6.71471565e-19,  9.08102451e-18,\n",
       "           1.17855103e+02],\n",
       "         [-6.71471565e-19,  1.97371149e+00, -3.55528235e-01,\n",
       "          -3.57229424e+01],\n",
       "         [ 8.25548089e-18,  3.23207617e-01,  2.17108178e+00,\n",
       "          -7.24879837e+00],\n",
       "         [ 0.00000000e+00,  0.00000000e+00,  0.00000000e+00,\n",
       "           1.00000000e+00]]),\n",
       "  'file_map': {'image': <nibabel.fileholders.FileHolder at 0x11f85baa0>}}}"
      ]
     },
     "execution_count": 8,
     "metadata": {},
     "output_type": "execute_result"
    }
   ],
   "source": [
    "img.__dict__"
   ]
  },
  {
   "cell_type": "code",
   "execution_count": 9,
   "metadata": {},
   "outputs": [
    {
     "data": {
      "text/plain": [
       "array([[-2.00000000e+00,  6.71471565e-19,  9.08102451e-18,\n",
       "         1.17855103e+02],\n",
       "       [-6.71471565e-19,  1.97371149e+00, -3.55528235e-01,\n",
       "        -3.57229424e+01],\n",
       "       [ 8.25548089e-18,  3.23207617e-01,  2.17108178e+00,\n",
       "        -7.24879837e+00],\n",
       "       [ 0.00000000e+00,  0.00000000e+00,  0.00000000e+00,\n",
       "         1.00000000e+00]])"
      ]
     },
     "execution_count": 9,
     "metadata": {},
     "output_type": "execute_result"
    }
   ],
   "source": [
    "img.affine"
   ]
  },
  {
   "cell_type": "code",
   "execution_count": 11,
   "metadata": {},
   "outputs": [],
   "source": [
    "header = img.header"
   ]
  },
  {
   "cell_type": "code",
   "execution_count": 12,
   "metadata": {},
   "outputs": [
    {
     "name": "stdout",
     "output_type": "stream",
     "text": [
      "<class 'nibabel.nifti1.Nifti1Header'> object, endian='<'\n",
      "sizeof_hdr      : 348\n",
      "data_type       : b''\n",
      "db_name         : b''\n",
      "extents         : 0\n",
      "session_error   : 0\n",
      "regular         : b'r'\n",
      "dim_info        : 57\n",
      "dim             : [  4 128  96  24   2   1   1   1]\n",
      "intent_p1       : 0.0\n",
      "intent_p2       : 0.0\n",
      "intent_p3       : 0.0\n",
      "intent_code     : none\n",
      "datatype        : int16\n",
      "bitpix          : 16\n",
      "slice_start     : 0\n",
      "pixdim          : [-1.000000e+00  2.000000e+00  2.000000e+00  2.199999e+00  2.000000e+03\n",
      "  1.000000e+00  1.000000e+00  1.000000e+00]\n",
      "vox_offset      : 0.0\n",
      "scl_slope       : nan\n",
      "scl_inter       : nan\n",
      "slice_end       : 23\n",
      "slice_code      : unknown\n",
      "xyzt_units      : 10\n",
      "cal_max         : 1162.0\n",
      "cal_min         : 0.0\n",
      "slice_duration  : 0.0\n",
      "toffset         : 0.0\n",
      "glmax           : 0\n",
      "glmin           : 0\n",
      "descrip         : b'FSL3.3\\x00 v2.25 NIfTI-1 Single file format'\n",
      "aux_file        : b''\n",
      "qform_code      : scanner\n",
      "sform_code      : scanner\n",
      "quatern_b       : -1.9451068e-26\n",
      "quatern_c       : -0.9967085\n",
      "quatern_d       : -0.08106874\n",
      "qoffset_x       : 117.8551\n",
      "qoffset_y       : -35.722942\n",
      "qoffset_z       : -7.2487984\n",
      "srow_x          : [-2.0000000e+00  6.7147157e-19  9.0810245e-18  1.1785510e+02]\n",
      "srow_y          : [-6.7147157e-19  1.9737115e+00 -3.5552824e-01 -3.5722942e+01]\n",
      "srow_z          : [ 8.2554809e-18  3.2320762e-01  2.1710818e+00 -7.2487984e+00]\n",
      "intent_name     : b''\n",
      "magic           : b'n+1'\n"
     ]
    }
   ],
   "source": [
    "print(header)"
   ]
  },
  {
   "cell_type": "code",
   "execution_count": 13,
   "metadata": {},
   "outputs": [
    {
     "name": "stdout",
     "output_type": "stream",
     "text": [
      "(128, 96, 24, 2)\n"
     ]
    }
   ],
   "source": [
    "print(header.get_data_shape())"
   ]
  },
  {
   "cell_type": "code",
   "execution_count": 15,
   "metadata": {},
   "outputs": [
    {
     "name": "stdout",
     "output_type": "stream",
     "text": [
      "int16\n"
     ]
    }
   ],
   "source": [
    "print(header.get_data_dtype())"
   ]
  },
  {
   "cell_type": "code",
   "execution_count": 16,
   "metadata": {},
   "outputs": [
    {
     "name": "stdout",
     "output_type": "stream",
     "text": [
      "(2.0, 2.0, 2.199999, 2000.0)\n"
     ]
    }
   ],
   "source": [
    "print(header.get_zooms())"
   ]
  },
  {
   "cell_type": "markdown",
   "metadata": {},
   "source": [
    "# My data"
   ]
  },
  {
   "cell_type": "code",
   "execution_count": 2,
   "metadata": {},
   "outputs": [],
   "source": [
    "my_file = 'data/sub-01_ses-V1_task-S1_run-03_space-MNI152NLin2009cAsym_res-2_desc-denoisedSmoothed_bold.nii.gz'\n",
    "img = nib.load(my_file)"
   ]
  },
  {
   "cell_type": "code",
   "execution_count": 3,
   "metadata": {},
   "outputs": [
    {
     "data": {
      "text/plain": [
       "<nibabel.nifti1.Nifti1Image at 0x1184c8da0>"
      ]
     },
     "execution_count": 3,
     "metadata": {},
     "output_type": "execute_result"
    }
   ],
   "source": [
    "img"
   ]
  },
  {
   "cell_type": "code",
   "execution_count": 4,
   "metadata": {},
   "outputs": [
    {
     "data": {
      "text/plain": [
       "<nibabel.arrayproxy.ArrayProxy at 0x1181e1e80>"
      ]
     },
     "execution_count": 4,
     "metadata": {},
     "output_type": "execute_result"
    }
   ],
   "source": [
    "img.dataobj"
   ]
  },
  {
   "cell_type": "code",
   "execution_count": 5,
   "metadata": {},
   "outputs": [
    {
     "data": {
      "text/plain": [
       "{'_header': <nibabel.nifti1.Nifti1Header at 0x11847bc20>,\n",
       " 'extra': {},\n",
       " 'file_map': {'image': <nibabel.fileholders.FileHolder at 0x11888c5c0>},\n",
       " '_dataobj': <nibabel.arrayproxy.ArrayProxy at 0x1181e1e80>,\n",
       " '_data_cache': None,\n",
       " '_fdata_cache': None,\n",
       " '_affine': array([[   2. ,    0. ,    0. ,  -96.5],\n",
       "        [   0. ,    2. ,    0. , -132.5],\n",
       "        [   0. ,    0. ,    2. ,  -78.5],\n",
       "        [   0. ,    0. ,    0. ,    1. ]]),\n",
       " '_load_cache': {'header': <nibabel.nifti1.Nifti1Header at 0x1190140e0>,\n",
       "  'affine': array([[   2. ,    0. ,    0. ,  -96.5],\n",
       "         [   0. ,    2. ,    0. , -132.5],\n",
       "         [   0. ,    0. ,    2. ,  -78.5],\n",
       "         [   0. ,    0. ,    0. ,    1. ]]),\n",
       "  'file_map': {'image': <nibabel.fileholders.FileHolder at 0x118920a70>}}}"
      ]
     },
     "execution_count": 5,
     "metadata": {},
     "output_type": "execute_result"
    }
   ],
   "source": [
    "img.__dict__"
   ]
  },
  {
   "cell_type": "code",
   "execution_count": 7,
   "metadata": {},
   "outputs": [],
   "source": [
    "header = img.header"
   ]
  },
  {
   "cell_type": "code",
   "execution_count": 8,
   "metadata": {},
   "outputs": [
    {
     "name": "stdout",
     "output_type": "stream",
     "text": [
      "<class 'nibabel.nifti1.Nifti1Header'> object, endian='<'\n",
      "sizeof_hdr      : 348\n",
      "data_type       : b''\n",
      "db_name         : b''\n",
      "extents         : 0\n",
      "session_error   : 0\n",
      "regular         : b''\n",
      "dim_info        : 0\n",
      "dim             : [  4  97 115  97 569   1   1   1]\n",
      "intent_p1       : 0.0\n",
      "intent_p2       : 0.0\n",
      "intent_p3       : 0.0\n",
      "intent_code     : none\n",
      "datatype        : float64\n",
      "bitpix          : 64\n",
      "slice_start     : 0\n",
      "pixdim          : [1. 2. 2. 2. 1. 1. 1. 1.]\n",
      "vox_offset      : 0.0\n",
      "scl_slope       : nan\n",
      "scl_inter       : nan\n",
      "slice_end       : 0\n",
      "slice_code      : unknown\n",
      "xyzt_units      : 0\n",
      "cal_max         : 1593.0289\n",
      "cal_min         : -1564.537\n",
      "slice_duration  : 0.0\n",
      "toffset         : 0.0\n",
      "glmax           : 0\n",
      "glmin           : 0\n",
      "descrip         : b''\n",
      "aux_file        : b''\n",
      "qform_code      : unknown\n",
      "sform_code      : aligned\n",
      "quatern_b       : 0.0\n",
      "quatern_c       : 0.0\n",
      "quatern_d       : 0.0\n",
      "qoffset_x       : -96.5\n",
      "qoffset_y       : -132.5\n",
      "qoffset_z       : -78.5\n",
      "srow_x          : [  2.    0.    0.  -96.5]\n",
      "srow_y          : [   0.     2.     0.  -132.5]\n",
      "srow_z          : [  0.    0.    2.  -78.5]\n",
      "intent_name     : b''\n",
      "magic           : b'n+1'\n"
     ]
    }
   ],
   "source": [
    "print(header)"
   ]
  },
  {
   "cell_type": "code",
   "execution_count": 9,
   "metadata": {},
   "outputs": [
    {
     "name": "stdout",
     "output_type": "stream",
     "text": [
      "(97, 115, 97, 569)\n"
     ]
    }
   ],
   "source": [
    "print(header.get_data_shape())"
   ]
  },
  {
   "cell_type": "code",
   "execution_count": 28,
   "metadata": {},
   "outputs": [
    {
     "name": "stdout",
     "output_type": "stream",
     "text": [
      "float64\n"
     ]
    }
   ],
   "source": [
    "print(header.get_data_dtype())"
   ]
  },
  {
   "cell_type": "code",
   "execution_count": 29,
   "metadata": {},
   "outputs": [
    {
     "name": "stdout",
     "output_type": "stream",
     "text": [
      "(2.0, 2.0, 2.0, 1.0)\n"
     ]
    }
   ],
   "source": [
    "print(header.get_zooms())"
   ]
  }
 ],
 "metadata": {
  "kernelspec": {
   "display_name": "env",
   "language": "python",
   "name": "python3"
  },
  "language_info": {
   "codemirror_mode": {
    "name": "ipython",
    "version": 3
   },
   "file_extension": ".py",
   "mimetype": "text/x-python",
   "name": "python",
   "nbconvert_exporter": "python",
   "pygments_lexer": "ipython3",
   "version": "3.12.2"
  }
 },
 "nbformat": 4,
 "nbformat_minor": 2
}
